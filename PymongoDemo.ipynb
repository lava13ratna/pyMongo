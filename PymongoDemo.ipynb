{
 "cells": [
  {
   "cell_type": "code",
   "execution_count": 1,
   "id": "1da4a91a",
   "metadata": {},
   "outputs": [],
   "source": [
    "from pymongo import MongoClient"
   ]
  },
  {
   "cell_type": "code",
   "execution_count": 50,
   "id": "75f0f032",
   "metadata": {},
   "outputs": [],
   "source": [
    "client = MongoClient('mongodb://127.0.0.1:27017')"
   ]
  },
  {
   "cell_type": "code",
   "execution_count": 51,
   "id": "43afe3a4",
   "metadata": {},
   "outputs": [
    {
     "data": {
      "text/plain": [
       "['admin', 'config', 'demo', 'local', 'mydatabase', 'mydb']"
      ]
     },
     "execution_count": 51,
     "metadata": {},
     "output_type": "execute_result"
    }
   ],
   "source": [
    "#Show databases\n",
    "client.list_database_names()"
   ]
  },
  {
   "cell_type": "code",
   "execution_count": 52,
   "id": "ad3a2a54",
   "metadata": {},
   "outputs": [],
   "source": [
    "#create database name mydatabase\n",
    "db = client[\"mydatabase\"]"
   ]
  },
  {
   "cell_type": "code",
   "execution_count": 53,
   "id": "2e8fd66a",
   "metadata": {},
   "outputs": [
    {
     "data": {
      "text/plain": [
       "['admin', 'config', 'demo', 'local', 'mydatabase', 'mydb']"
      ]
     },
     "execution_count": 53,
     "metadata": {},
     "output_type": "execute_result"
    }
   ],
   "source": [
    "#Show database\n",
    "client.list_database_names()"
   ]
  },
  {
   "cell_type": "code",
   "execution_count": 54,
   "id": "87f68dca",
   "metadata": {},
   "outputs": [],
   "source": [
    "#create collection\n",
    "employees = db[\"Employee\"]"
   ]
  },
  {
   "cell_type": "code",
   "execution_count": 55,
   "id": "75b35c83",
   "metadata": {},
   "outputs": [
    {
     "data": {
      "text/plain": [
       "['Employee']"
      ]
     },
     "execution_count": 55,
     "metadata": {},
     "output_type": "execute_result"
    }
   ],
   "source": [
    "db.list_collection_names()"
   ]
  },
  {
   "cell_type": "code",
   "execution_count": 56,
   "id": "018c2a85",
   "metadata": {},
   "outputs": [
    {
     "data": {
      "text/plain": [
       "<pymongo.results.InsertOneResult at 0x7f94a3c01df0>"
      ]
     },
     "execution_count": 56,
     "metadata": {},
     "output_type": "execute_result"
    }
   ],
   "source": [
    "#Insert one record/document\n",
    "employees.insert_one({\"id\":1,\"Empname\":\"Lavanya\",\"Job\":\"AIEngineer\",\"Salary\":100000})"
   ]
  },
  {
   "cell_type": "code",
   "execution_count": 57,
   "id": "c1b70756",
   "metadata": {},
   "outputs": [
    {
     "data": {
      "text/plain": [
       "['admin', 'config', 'demo', 'local', 'mydatabase', 'mydb']"
      ]
     },
     "execution_count": 57,
     "metadata": {},
     "output_type": "execute_result"
    }
   ],
   "source": [
    "client.list_database_names()"
   ]
  },
  {
   "cell_type": "code",
   "execution_count": 58,
   "id": "5e4cf255",
   "metadata": {},
   "outputs": [
    {
     "data": {
      "text/plain": [
       "['Employee']"
      ]
     },
     "execution_count": 58,
     "metadata": {},
     "output_type": "execute_result"
    }
   ],
   "source": [
    "db.list_collection_names()"
   ]
  },
  {
   "cell_type": "code",
   "execution_count": 59,
   "id": "17389240",
   "metadata": {},
   "outputs": [
    {
     "data": {
      "text/plain": [
       "12"
      ]
     },
     "execution_count": 59,
     "metadata": {},
     "output_type": "execute_result"
    }
   ],
   "source": [
    "#count the number of documents inside the collection\n",
    "employees.count_documents({})"
   ]
  },
  {
   "cell_type": "code",
   "execution_count": 40,
   "id": "e3e72b19",
   "metadata": {},
   "outputs": [
    {
     "data": {
      "text/plain": [
       "{'_id': ObjectId('62d597c3269a468add7bcdbc'),\n",
       " 'id': 1,\n",
       " 'EmpName': 'Lavanya',\n",
       " 'Job': 'AIEngineer',\n",
       " 'Salary': 100000}"
      ]
     },
     "execution_count": 40,
     "metadata": {},
     "output_type": "execute_result"
    }
   ],
   "source": [
    "#see the data inside the collection:\n",
    "employees.find_one()"
   ]
  },
  {
   "cell_type": "code",
   "execution_count": 60,
   "id": "cfa824c3",
   "metadata": {},
   "outputs": [
    {
     "data": {
      "text/plain": [
       "<pymongo.results.InsertManyResult at 0x7f94a3c75730>"
      ]
     },
     "execution_count": 60,
     "metadata": {},
     "output_type": "execute_result"
    }
   ],
   "source": [
    "#Insert multiple records\n",
    "#so first make the list\n",
    "employeelist=[\n",
    "            {\"id\":2,\"Empname\":\"Ratna\",\"Job\":\"SoftwareEngineer\",\"Salary\":80000},\n",
    "            {\"id\":3,\"Empname\":\"Roy\",\"Job\":\"RoboticsEngineer\",\"Salary\":250000},\n",
    "            {\"id\":4,\"Empname\":\"Luxshi\",\"Job\":\"QAEngineer\",\"Salary\":70000},\n",
    "            {\"id\":5,\"Empname\":\"Kanes\",\"Job\":\"MachineLearningEngineer\",\"Salary\":200000}\n",
    "]\n",
    "#then insert list\n",
    "employees.insert_many(employeelist)"
   ]
  },
  {
   "cell_type": "code",
   "execution_count": 61,
   "id": "02264a8b",
   "metadata": {},
   "outputs": [
    {
     "data": {
      "text/plain": [
       "16"
      ]
     },
     "execution_count": 61,
     "metadata": {},
     "output_type": "execute_result"
    }
   ],
   "source": [
    "employees.count_documents({})"
   ]
  },
  {
   "cell_type": "code",
   "execution_count": 25,
   "id": "60a0a57f",
   "metadata": {},
   "outputs": [
    {
     "name": "stdout",
     "output_type": "stream",
     "text": [
      "{'_id': ObjectId('62d597c3269a468add7bcdbc'), 'id': 1, 'EmpName': 'Lavanya', 'Job': 'AIEngineer', 'Salary': 100000}\n",
      "{'_id': ObjectId('62d59f63269a468add7bcdbd'), 'id': 2, 'Empname': 'Ratna', 'Job': 'SoftwareEngineer', 'Salary': 80000}\n",
      "{'_id': ObjectId('62d59f63269a468add7bcdbe'), 'id': 3, 'Empname': 'Roy', 'Job': 'RoboticsEngineer', 'Salary': 250000}\n",
      "{'_id': ObjectId('62d59f63269a468add7bcdbf'), 'id': 4, 'Empname': 'Luxshi', 'Job': 'QAEngineer', 'Salary': 70000}\n",
      "{'_id': ObjectId('62d59f63269a468add7bcdc0'), 'id': 5, 'Empname': 'Kanes', 'Job': 'MachineLearningEngineer', 'Salary': 200000}\n"
     ]
    }
   ],
   "source": [
    "#Display all documents\n",
    "for employee in employees.find():\n",
    "    print(employee)"
   ]
  },
  {
   "cell_type": "code",
   "execution_count": 62,
   "id": "f569bec3",
   "metadata": {},
   "outputs": [
    {
     "name": "stdout",
     "output_type": "stream",
     "text": [
      "{'_id': ObjectId('62d597c3269a468add7bcdbc'), 'id': 1, 'EmpName': 'Lavanya', 'Job': 'AIEngineer', 'Salary': 100000}\n",
      "{'_id': ObjectId('62d59f63269a468add7bcdbd'), 'id': 2, 'Empname': 'Ratna', 'Job': 'SoftwareEngineer', 'Salary': 80000}\n",
      "{'_id': ObjectId('62d59f63269a468add7bcdbe'), 'id': 3, 'Empname': 'Roy', 'Job': 'RoboticsEngineer', 'Salary': 250000}\n"
     ]
    }
   ],
   "source": [
    "# View limited documents\n",
    "for employee in employees.find().limit(3):\n",
    "    print(employee)\n"
   ]
  },
  {
   "cell_type": "code",
   "execution_count": 63,
   "id": "d163692f",
   "metadata": {},
   "outputs": [
    {
     "name": "stdout",
     "output_type": "stream",
     "text": [
      "{}\n",
      "{'Empname': 'Ratna'}\n",
      "{'Empname': 'Roy'}\n",
      "{'Empname': 'Luxshi'}\n",
      "{'Empname': 'Kanes'}\n",
      "{'Empname': 'Lavanya'}\n",
      "{'Empname': 'Lavanya'}\n",
      "{'Empname': 'Ratna'}\n",
      "{'Empname': 'Roy'}\n",
      "{'Empname': 'Luxshi'}\n",
      "{'Empname': 'Kanes'}\n",
      "{'Empname': 'Lavanya'}\n",
      "{'Empname': 'Ratna'}\n",
      "{'Empname': 'Roy'}\n",
      "{'Empname': 'Luxshi'}\n",
      "{'Empname': 'Kanes'}\n"
     ]
    }
   ],
   "source": [
    "for employee in employees.find({},{\"Empname\":1,\"_id\":0}):\n",
    "    print(employee)"
   ]
  },
  {
   "cell_type": "code",
   "execution_count": 64,
   "id": "f3482337",
   "metadata": {},
   "outputs": [
    {
     "data": {
      "text/plain": [
       "<pymongo.results.DeleteResult at 0x7f94a3c75d30>"
      ]
     },
     "execution_count": 64,
     "metadata": {},
     "output_type": "execute_result"
    }
   ],
   "source": [
    "employees.delete_one({ \"id\":11 })"
   ]
  },
  {
   "cell_type": "code",
   "execution_count": 66,
   "id": "9ec62b00",
   "metadata": {},
   "outputs": [
    {
     "name": "stdout",
     "output_type": "stream",
     "text": [
      "{'_id': ObjectId('62d597c3269a468add7bcdbc'), 'id': 1}\n",
      "{'_id': ObjectId('62d59f63269a468add7bcdbd'), 'id': 2}\n",
      "{'_id': ObjectId('62d59f63269a468add7bcdbe'), 'id': 3}\n",
      "{'_id': ObjectId('62d59f63269a468add7bcdbf'), 'id': 4}\n",
      "{'_id': ObjectId('62d59f63269a468add7bcdc0'), 'id': 5}\n",
      "{'_id': ObjectId('62d5a270269a468add7bcdc1'), 'id': 1}\n",
      "{'_id': ObjectId('62d5a28b269a468add7bcdc2'), 'id': 1}\n",
      "{'_id': ObjectId('62d5a295269a468add7bcdc3'), 'id': 2}\n",
      "{'_id': ObjectId('62d5a295269a468add7bcdc4'), 'id': 3}\n",
      "{'_id': ObjectId('62d5a295269a468add7bcdc5'), 'id': 4}\n",
      "{'_id': ObjectId('62d5a295269a468add7bcdc6'), 'id': 5}\n",
      "{'_id': ObjectId('62d5a32e269a468add7bcdc9'), 'id': 1}\n",
      "{'_id': ObjectId('62d5a341269a468add7bcdca'), 'id': 2}\n",
      "{'_id': ObjectId('62d5a341269a468add7bcdcb'), 'id': 3}\n",
      "{'_id': ObjectId('62d5a341269a468add7bcdcc'), 'id': 4}\n",
      "{'_id': ObjectId('62d5a341269a468add7bcdcd'), 'id': 5}\n"
     ]
    }
   ],
   "source": [
    "for employee in employees.find({},{\"id\":1,\"_id\":1}):\n",
    "    print(employee)"
   ]
  },
  {
   "cell_type": "code",
   "execution_count": 67,
   "id": "0914f27a",
   "metadata": {},
   "outputs": [
    {
     "data": {
      "text/plain": [
       "<pymongo.results.DeleteResult at 0x7f94a3c75820>"
      ]
     },
     "execution_count": 67,
     "metadata": {},
     "output_type": "execute_result"
    }
   ],
   "source": [
    "employees.delete_one({ \"_id\":\"ObjectId('62d5a270269a468add7bcdc1')\" })"
   ]
  },
  {
   "cell_type": "code",
   "execution_count": 68,
   "id": "e27ad82d",
   "metadata": {},
   "outputs": [
    {
     "name": "stdout",
     "output_type": "stream",
     "text": [
      "{'_id': ObjectId('62d597c3269a468add7bcdbc'), 'id': 1}\n",
      "{'_id': ObjectId('62d59f63269a468add7bcdbd'), 'id': 2}\n",
      "{'_id': ObjectId('62d59f63269a468add7bcdbe'), 'id': 3}\n",
      "{'_id': ObjectId('62d59f63269a468add7bcdbf'), 'id': 4}\n",
      "{'_id': ObjectId('62d59f63269a468add7bcdc0'), 'id': 5}\n",
      "{'_id': ObjectId('62d5a270269a468add7bcdc1'), 'id': 1}\n",
      "{'_id': ObjectId('62d5a28b269a468add7bcdc2'), 'id': 1}\n",
      "{'_id': ObjectId('62d5a295269a468add7bcdc3'), 'id': 2}\n",
      "{'_id': ObjectId('62d5a295269a468add7bcdc4'), 'id': 3}\n",
      "{'_id': ObjectId('62d5a295269a468add7bcdc5'), 'id': 4}\n",
      "{'_id': ObjectId('62d5a295269a468add7bcdc6'), 'id': 5}\n",
      "{'_id': ObjectId('62d5a32e269a468add7bcdc9'), 'id': 1}\n",
      "{'_id': ObjectId('62d5a341269a468add7bcdca'), 'id': 2}\n",
      "{'_id': ObjectId('62d5a341269a468add7bcdcb'), 'id': 3}\n",
      "{'_id': ObjectId('62d5a341269a468add7bcdcc'), 'id': 4}\n",
      "{'_id': ObjectId('62d5a341269a468add7bcdcd'), 'id': 5}\n"
     ]
    }
   ],
   "source": [
    "for employee in employees.find({},{\"id\":1,\"_id\":1}):\n",
    "    print(employee)\n",
    "    "
   ]
  },
  {
   "cell_type": "code",
   "execution_count": 69,
   "id": "026bb150",
   "metadata": {},
   "outputs": [],
   "source": [
    "employees.drop()"
   ]
  },
  {
   "cell_type": "code",
   "execution_count": 70,
   "id": "03bb4378",
   "metadata": {},
   "outputs": [],
   "source": [
    "for employee in employees.find({},{\"id\":1,\"_id\":1}):\n",
    "    print(employee)\n",
    "    "
   ]
  },
  {
   "cell_type": "code",
   "execution_count": 71,
   "id": "9288f998",
   "metadata": {},
   "outputs": [
    {
     "data": {
      "text/plain": [
       "[]"
      ]
     },
     "execution_count": 71,
     "metadata": {},
     "output_type": "execute_result"
    }
   ],
   "source": [
    "db.list_collection_names()\n"
   ]
  },
  {
   "cell_type": "code",
   "execution_count": 73,
   "id": "67773667",
   "metadata": {},
   "outputs": [
    {
     "data": {
      "text/plain": [
       "<pymongo.results.InsertManyResult at 0x7f94a3c01160>"
      ]
     },
     "execution_count": 73,
     "metadata": {},
     "output_type": "execute_result"
    }
   ],
   "source": [
    "employeelist=[\n",
    "            {\"id\":1,\"Empname\":\"Lavanya\",\"Job\":\"AIEngineer\",\"Salary\":100000},\n",
    "            {\"id\":2,\"Empname\":\"Ratna\",\"Job\":\"SoftwareEngineer\",\"Salary\":80000},\n",
    "            {\"id\":3,\"Empname\":\"Roy\",\"Job\":\"RoboticsEngineer\",\"Salary\":250000},\n",
    "            {\"id\":4,\"Empname\":\"Luxshi\",\"Job\":\"QAEngineer\",\"Salary\":70000},\n",
    "            {\"id\":5,\"Empname\":\"Kanes\",\"Job\":\"MachineLearningEngineer\",\"Salary\":200000}\n",
    "]\n",
    "#then insert list\n",
    "employees.insert_many(employeelist)"
   ]
  },
  {
   "cell_type": "code",
   "execution_count": 74,
   "id": "1cebd229",
   "metadata": {},
   "outputs": [
    {
     "name": "stdout",
     "output_type": "stream",
     "text": [
      "{'_id': ObjectId('62d5a530269a468add7bcdce'), 'id': 1, 'Empname': 'Lavanya', 'Job': 'AIEngineer', 'Salary': 100000}\n",
      "{'_id': ObjectId('62d5a530269a468add7bcdcf'), 'id': 2, 'Empname': 'Ratna', 'Job': 'SoftwareEngineer', 'Salary': 80000}\n",
      "{'_id': ObjectId('62d5a530269a468add7bcdd0'), 'id': 3, 'Empname': 'Roy', 'Job': 'RoboticsEngineer', 'Salary': 250000}\n"
     ]
    }
   ],
   "source": [
    "# View limited documents\n",
    "for employee in employees.find().limit(3):\n",
    "    print(employee)\n"
   ]
  },
  {
   "cell_type": "code",
   "execution_count": 76,
   "id": "b055d9b3",
   "metadata": {},
   "outputs": [
    {
     "data": {
      "text/plain": [
       "<pymongo.results.DeleteResult at 0x7f94a3c01b20>"
      ]
     },
     "execution_count": 76,
     "metadata": {},
     "output_type": "execute_result"
    }
   ],
   "source": [
    "employees.delete_one({ \"id\": 1 })"
   ]
  },
  {
   "cell_type": "code",
   "execution_count": 77,
   "id": "0f3e5cbc",
   "metadata": {},
   "outputs": [
    {
     "name": "stdout",
     "output_type": "stream",
     "text": [
      "{'_id': ObjectId('62d5a530269a468add7bcdcf'), 'id': 2, 'Empname': 'Ratna', 'Job': 'SoftwareEngineer', 'Salary': 80000}\n",
      "{'_id': ObjectId('62d5a530269a468add7bcdd0'), 'id': 3, 'Empname': 'Roy', 'Job': 'RoboticsEngineer', 'Salary': 250000}\n",
      "{'_id': ObjectId('62d5a530269a468add7bcdd1'), 'id': 4, 'Empname': 'Luxshi', 'Job': 'QAEngineer', 'Salary': 70000}\n",
      "{'_id': ObjectId('62d5a530269a468add7bcdd2'), 'id': 5, 'Empname': 'Kanes', 'Job': 'MachineLearningEngineer', 'Salary': 200000}\n"
     ]
    }
   ],
   "source": [
    "#Display all documents\n",
    "for employee in employees.find():\n",
    "    print(employee)"
   ]
  },
  {
   "cell_type": "code",
   "execution_count": 78,
   "id": "074a938b",
   "metadata": {},
   "outputs": [
    {
     "data": {
      "text/plain": [
       "<pymongo.results.InsertOneResult at 0x7f94a3c01580>"
      ]
     },
     "execution_count": 78,
     "metadata": {},
     "output_type": "execute_result"
    }
   ],
   "source": [
    "employees.insert_one({\"id\":1,\"Empname\":\"Lavanya\",\"Job\":\"AIEngineer\",\"Salary\":100000})"
   ]
  },
  {
   "cell_type": "code",
   "execution_count": 79,
   "id": "4516a47b",
   "metadata": {},
   "outputs": [
    {
     "data": {
      "text/plain": [
       "['admin', 'config', 'demo', 'local', 'mydatabase', 'mydb']"
      ]
     },
     "execution_count": 79,
     "metadata": {},
     "output_type": "execute_result"
    }
   ],
   "source": [
    "client.list_database_names()"
   ]
  },
  {
   "cell_type": "code",
   "execution_count": 82,
   "id": "934671fc",
   "metadata": {},
   "outputs": [
    {
     "data": {
      "text/plain": [
       "['Employee']"
      ]
     },
     "execution_count": 82,
     "metadata": {},
     "output_type": "execute_result"
    }
   ],
   "source": [
    "db.list_collection_names()"
   ]
  },
  {
   "cell_type": "code",
   "execution_count": 83,
   "id": "7805485d",
   "metadata": {},
   "outputs": [
    {
     "name": "stdout",
     "output_type": "stream",
     "text": [
      "{'_id': ObjectId('62d5a530269a468add7bcdcf'), 'id': 2, 'Empname': 'Ratna', 'Job': 'SoftwareEngineer', 'Salary': 80000}\n",
      "{'_id': ObjectId('62d5a530269a468add7bcdd0'), 'id': 3, 'Empname': 'Roy', 'Job': 'RoboticsEngineer', 'Salary': 250000}\n",
      "{'_id': ObjectId('62d5a530269a468add7bcdd1'), 'id': 4, 'Empname': 'Luxshi', 'Job': 'QAEngineer', 'Salary': 70000}\n",
      "{'_id': ObjectId('62d5a530269a468add7bcdd2'), 'id': 5, 'Empname': 'Kanes', 'Job': 'MachineLearningEngineer', 'Salary': 200000}\n",
      "{'_id': ObjectId('62d5a664269a468add7bcdd3'), 'id': 1, 'Empname': 'Lavanya', 'Job': 'AIEngineer', 'Salary': 100000}\n"
     ]
    }
   ],
   "source": [
    "#Display all documents\n",
    "for employee in employees.find():\n",
    "    print(employee)"
   ]
  },
  {
   "cell_type": "code",
   "execution_count": 84,
   "id": "4d238ecd",
   "metadata": {},
   "outputs": [],
   "source": [
    "employees.drop()"
   ]
  },
  {
   "cell_type": "code",
   "execution_count": 85,
   "id": "40b333ad",
   "metadata": {},
   "outputs": [
    {
     "data": {
      "text/plain": [
       "<pymongo.results.InsertManyResult at 0x7f94a3c14940>"
      ]
     },
     "execution_count": 85,
     "metadata": {},
     "output_type": "execute_result"
    }
   ],
   "source": [
    "employeelist=[\n",
    "            {\"id\":1,\"Empname\":\"Lavanya\",\"Job\":\"AIEngineer\",\"Salary\":100000},\n",
    "            {\"id\":2,\"Empname\":\"Ratna\",\"Job\":\"SoftwareEngineer\",\"Salary\":80000},\n",
    "            {\"id\":3,\"Empname\":\"Roy\",\"Job\":\"RoboticsEngineer\",\"Salary\":250000},\n",
    "            {\"id\":4,\"Empname\":\"Luxshi\",\"Job\":\"QAEngineer\",\"Salary\":70000},\n",
    "            {\"id\":5,\"Empname\":\"Kanes\",\"Job\":\"MachineLearningEngineer\",\"Salary\":200000}\n",
    "]\n",
    "#then insert list\n",
    "employees.insert_many(employeelist)"
   ]
  },
  {
   "cell_type": "code",
   "execution_count": 86,
   "id": "86f4f9a3",
   "metadata": {},
   "outputs": [
    {
     "name": "stdout",
     "output_type": "stream",
     "text": [
      "{'_id': ObjectId('62d5a7c8269a468add7bcdd4'), 'id': 1, 'Empname': 'Lavanya', 'Job': 'AIEngineer', 'Salary': 100000}\n",
      "{'_id': ObjectId('62d5a7c8269a468add7bcdd5'), 'id': 2, 'Empname': 'Ratna', 'Job': 'SoftwareEngineer', 'Salary': 80000}\n",
      "{'_id': ObjectId('62d5a7c8269a468add7bcdd6'), 'id': 3, 'Empname': 'Roy', 'Job': 'RoboticsEngineer', 'Salary': 250000}\n",
      "{'_id': ObjectId('62d5a7c8269a468add7bcdd7'), 'id': 4, 'Empname': 'Luxshi', 'Job': 'QAEngineer', 'Salary': 70000}\n",
      "{'_id': ObjectId('62d5a7c8269a468add7bcdd8'), 'id': 5, 'Empname': 'Kanes', 'Job': 'MachineLearningEngineer', 'Salary': 200000}\n"
     ]
    }
   ],
   "source": [
    "#Display all documents\n",
    "for employee in employees.find():\n",
    "    print(employee)"
   ]
  },
  {
   "cell_type": "code",
   "execution_count": 88,
   "id": "af96b121",
   "metadata": {},
   "outputs": [
    {
     "name": "stdout",
     "output_type": "stream",
     "text": [
      "{'_id': ObjectId('62d5a7c8269a468add7bcdd4'), 'id': 1, 'Empname': 'Lavanya', 'Job': 'AIEngineer', 'Salary': 100000}\n",
      "{'_id': ObjectId('62d5a7c8269a468add7bcdd5'), 'id': 2, 'Empname': 'Ratna', 'Job': 'SoftwareEngineer', 'Salary': 80000}\n",
      "{'_id': ObjectId('62d5a7c8269a468add7bcdd6'), 'id': 3, 'Empname': 'Roy', 'Job': 'RoboticsEngineer', 'Salary': 250000}\n"
     ]
    }
   ],
   "source": [
    "for employee in employees.find().limit(3):\n",
    "    print(employee)"
   ]
  },
  {
   "cell_type": "code",
   "execution_count": 89,
   "id": "fd5ea583",
   "metadata": {},
   "outputs": [
    {
     "name": "stdout",
     "output_type": "stream",
     "text": [
      "{'_id': ObjectId('62d5a7c8269a468add7bcdd4'), 'Empname': 'Lavanya'}\n",
      "{'_id': ObjectId('62d5a7c8269a468add7bcdd5'), 'Empname': 'Ratna'}\n",
      "{'_id': ObjectId('62d5a7c8269a468add7bcdd6'), 'Empname': 'Roy'}\n",
      "{'_id': ObjectId('62d5a7c8269a468add7bcdd7'), 'Empname': 'Luxshi'}\n",
      "{'_id': ObjectId('62d5a7c8269a468add7bcdd8'), 'Empname': 'Kanes'}\n"
     ]
    }
   ],
   "source": [
    "#show name only\n",
    "for employee in employees.find({},{\"Empname\":1}):\n",
    "    print(employee)"
   ]
  },
  {
   "cell_type": "code",
   "execution_count": 91,
   "id": "4e06905e",
   "metadata": {},
   "outputs": [
    {
     "name": "stdout",
     "output_type": "stream",
     "text": [
      "{'Empname': 'Lavanya'}\n",
      "{'Empname': 'Ratna'}\n",
      "{'Empname': 'Roy'}\n",
      "{'Empname': 'Luxshi'}\n",
      "{'Empname': 'Kanes'}\n"
     ]
    }
   ],
   "source": [
    "#show name only without auto generated id\n",
    "for employee in employees.find({},{\"Empname\":1,\"_id\":0}):\n",
    "    print(employee)"
   ]
  },
  {
   "cell_type": "code",
   "execution_count": 92,
   "id": "03bb53ec",
   "metadata": {},
   "outputs": [
    {
     "name": "stdout",
     "output_type": "stream",
     "text": [
      "{'Empname': 'Lavanya', 'Job': 'AIEngineer'}\n",
      "{'Empname': 'Ratna', 'Job': 'SoftwareEngineer'}\n",
      "{'Empname': 'Roy', 'Job': 'RoboticsEngineer'}\n",
      "{'Empname': 'Luxshi', 'Job': 'QAEngineer'}\n",
      "{'Empname': 'Kanes', 'Job': 'MachineLearningEngineer'}\n"
     ]
    }
   ],
   "source": [
    "#show name and job\n",
    "for employee in employees.find({},{\"Empname\":1,\"Job\":1,\"_id\":0}):\n",
    "    print(employee)"
   ]
  },
  {
   "cell_type": "code",
   "execution_count": 93,
   "id": "49cd6bea",
   "metadata": {},
   "outputs": [
    {
     "name": "stdout",
     "output_type": "stream",
     "text": [
      "{'_id': ObjectId('62d5a7c8269a468add7bcdd8'), 'id': 5, 'Empname': 'Kanes', 'Job': 'MachineLearningEngineer', 'Salary': 200000}\n",
      "{'_id': ObjectId('62d5a7c8269a468add7bcdd4'), 'id': 1, 'Empname': 'Lavanya', 'Job': 'AIEngineer', 'Salary': 100000}\n",
      "{'_id': ObjectId('62d5a7c8269a468add7bcdd7'), 'id': 4, 'Empname': 'Luxshi', 'Job': 'QAEngineer', 'Salary': 70000}\n",
      "{'_id': ObjectId('62d5a7c8269a468add7bcdd5'), 'id': 2, 'Empname': 'Ratna', 'Job': 'SoftwareEngineer', 'Salary': 80000}\n",
      "{'_id': ObjectId('62d5a7c8269a468add7bcdd6'), 'id': 3, 'Empname': 'Roy', 'Job': 'RoboticsEngineer', 'Salary': 250000}\n"
     ]
    }
   ],
   "source": [
    "#list the documents by sorting the Empname\n",
    "for employee in employees.find().sort(\"Empname\"):\n",
    "    print(employee)"
   ]
  },
  {
   "cell_type": "code",
   "execution_count": 94,
   "id": "f13fdaa2",
   "metadata": {},
   "outputs": [
    {
     "name": "stdout",
     "output_type": "stream",
     "text": [
      "{'Empname': 'Ratna', 'Job': 'SoftwareEngineer'}\n",
      "{'Empname': 'Roy', 'Job': 'RoboticsEngineer'}\n"
     ]
    }
   ],
   "source": [
    "#Get employee name and job, that name start with \"R\"\n",
    "for employee in employees.find({\"Empname\":{\"$regex\":\"^R\"}},{\"Empname\":1,\"Job\":1,\"_id\":0}):\n",
    "    print(employee)"
   ]
  },
  {
   "cell_type": "code",
   "execution_count": 95,
   "id": "a6c1ea4b",
   "metadata": {},
   "outputs": [
    {
     "name": "stdout",
     "output_type": "stream",
     "text": [
      "1 Updated\n"
     ]
    }
   ],
   "source": [
    "#update values\n",
    "myquery={\"Job\":{\"$regex\":\"^M\"}}\n",
    "newvalues={\"$set\":{\"Job\":\"ResearchEngineer\"}}\n",
    "result=employees.update_many(myquery,newvalues)\n",
    "print(result.modified_count,\"Updated\")"
   ]
  },
  {
   "cell_type": "code",
   "execution_count": 96,
   "id": "58c0ce81",
   "metadata": {},
   "outputs": [
    {
     "name": "stdout",
     "output_type": "stream",
     "text": [
      "{'_id': ObjectId('62d5a7c8269a468add7bcdd4'), 'id': 1, 'Empname': 'Lavanya', 'Job': 'AIEngineer', 'Salary': 100000}\n",
      "{'_id': ObjectId('62d5a7c8269a468add7bcdd5'), 'id': 2, 'Empname': 'Ratna', 'Job': 'SoftwareEngineer', 'Salary': 80000}\n",
      "{'_id': ObjectId('62d5a7c8269a468add7bcdd6'), 'id': 3, 'Empname': 'Roy', 'Job': 'RoboticsEngineer', 'Salary': 250000}\n",
      "{'_id': ObjectId('62d5a7c8269a468add7bcdd7'), 'id': 4, 'Empname': 'Luxshi', 'Job': 'QAEngineer', 'Salary': 70000}\n",
      "{'_id': ObjectId('62d5a7c8269a468add7bcdd8'), 'id': 5, 'Empname': 'Kanes', 'Job': 'ResearchEngineer', 'Salary': 200000}\n"
     ]
    }
   ],
   "source": [
    "for employee in employees.find():\n",
    "    print(employee)"
   ]
  },
  {
   "cell_type": "code",
   "execution_count": 72,
   "id": "ddd52d03",
   "metadata": {},
   "outputs": [
    {
     "name": "stdout",
     "output_type": "stream",
     "text": [
      "['Robot', 'admin', 'config', 'demo', 'local', 'mydatabase', 'mydb']\n",
      "['Robot', 'admin', 'config', 'demo', 'local', 'mydatabase', 'mydb']\n",
      "['robotTable']\n"
     ]
    }
   ],
   "source": [
    "class robots:\n",
    "    from pymongo import MongoClient\n",
    "    client = MongoClient('mongodb://127.0.0.1:27017')\n",
    "    print(client.list_database_names())\n",
    "    db=client[\"Robot\"]   \n",
    "    tRobot=db[\"robotTable\"]\n",
    "    id=1\n",
    "    color=\"red\"\n",
    "    tRobot.insert_one({\"id\":id,\"color\":color})\n",
    "    print(client.list_database_names())\n",
    "    print(db.list_collection_names())\n",
    "    tRobot.drop()\n",
    "    for robot1 in tRobot.find():\n",
    "        print(robot1)\n",
    "   \n",
    "  \n",
    " \n",
    "    \n",
    "     "
   ]
  },
  {
   "cell_type": "code",
   "execution_count": null,
   "id": "c958d3ec",
   "metadata": {},
   "outputs": [],
   "source": []
  },
  {
   "cell_type": "code",
   "execution_count": null,
   "id": "5eca6488",
   "metadata": {},
   "outputs": [],
   "source": []
  },
  {
   "cell_type": "code",
   "execution_count": null,
   "id": "3be2e189",
   "metadata": {},
   "outputs": [],
   "source": []
  },
  {
   "cell_type": "code",
   "execution_count": null,
   "id": "b93711b5",
   "metadata": {},
   "outputs": [],
   "source": []
  }
 ],
 "metadata": {
  "kernelspec": {
   "display_name": "Python 3 (ipykernel)",
   "language": "python",
   "name": "python3"
  },
  "language_info": {
   "codemirror_mode": {
    "name": "ipython",
    "version": 3
   },
   "file_extension": ".py",
   "mimetype": "text/x-python",
   "name": "python",
   "nbconvert_exporter": "python",
   "pygments_lexer": "ipython3",
   "version": "3.9.12"
  }
 },
 "nbformat": 4,
 "nbformat_minor": 5
}
